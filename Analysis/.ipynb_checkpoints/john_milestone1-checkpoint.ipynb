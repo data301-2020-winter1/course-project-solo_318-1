{
 "cells": [
  {
   "cell_type": "code",
   "execution_count": 21,
   "metadata": {},
   "outputs": [
    {
     "name": "stdout",
     "output_type": "stream",
     "text": [
      "             id                                               name    host_id  \\\n",
      "0          1419                    Beautiful home in amazing area!       1565   \n",
      "1          8077                 Downtown Harbourfront Private Room      22795   \n",
      "2         12604                     Seaton Village Parlour Bedroom      48239   \n",
      "3         23691                    Queen Bedroom close to downtown      93825   \n",
      "4         26654  World Class downtown @CN Tower Theatre MTCC ga...     113345   \n",
      "...         ...                                                ...        ...   \n",
      "19338  45348297                Studio Condo in Downtown Toronto #5  342316738   \n",
      "19339  45351124                         budget friendly nice place  342346982   \n",
      "19340  45351175                     affordable, long term place :)  342346982   \n",
      "19341  45351235                    Studio Unit with a nice view :)  342346982   \n",
      "19342  45351322               Luxury Studio Condo Amazing LakeView   38189462   \n",
      "\n",
      "            host_name  neighbourhood_group                      neighbourhood  \\\n",
      "0           Alexandra                  NaN                    Little Portugal   \n",
      "1      Kathie & Larry                  NaN  Waterfront Communities-The Island   \n",
      "2                Rona                  NaN                              Annex   \n",
      "3       Yohan & Sarah                  NaN               Briar Hill-Belgravia   \n",
      "4               Adela                  NaN  Waterfront Communities-The Island   \n",
      "...               ...                  ...                                ...   \n",
      "19338           Davar                  NaN              Church-Yonge Corridor   \n",
      "19339            Edip                  NaN                Mount Pleasant West   \n",
      "19340            Edip                  NaN                     Yonge-St.Clair   \n",
      "19341            Edip                  NaN                     Yonge-Eglinton   \n",
      "19342         Frankie                  NaN  Waterfront Communities-The Island   \n",
      "\n",
      "        latitude  longitude        room_type  price  minimum_nights  \\\n",
      "0      43.646170 -79.424510  Entire home/apt    469               4   \n",
      "1      43.641050 -79.376280     Private room     99             180   \n",
      "2      43.667240 -79.415980     Private room     66               1   \n",
      "3      43.696020 -79.454680     Private room     70               1   \n",
      "4      43.645300 -79.389400  Entire home/apt    135              21   \n",
      "...          ...        ...              ...    ...             ...   \n",
      "19338  43.649440 -79.376090     Private room     99              30   \n",
      "19339  43.699408 -79.390239      Shared room     37               1   \n",
      "19340  43.693933 -79.397942      Shared room     29               1   \n",
      "19341  43.706643 -79.401303  Entire home/apt    111               1   \n",
      "19342  43.642040 -79.383045  Entire home/apt    111               2   \n",
      "\n",
      "       number_of_reviews last_review  reviews_per_month  \\\n",
      "0                      7   4/12/2017               0.11   \n",
      "1                    169  27/08/2013               1.25   \n",
      "2                      0         NaN                NaN   \n",
      "3                    217  22/12/2019               1.73   \n",
      "4                     40  20/03/2020               0.34   \n",
      "...                  ...         ...                ...   \n",
      "19338                  0         NaN                NaN   \n",
      "19339                  0         NaN                NaN   \n",
      "19340                  0         NaN                NaN   \n",
      "19341                  0         NaN                NaN   \n",
      "19342                  0         NaN                NaN   \n",
      "\n",
      "       calculated_host_listings_count  availability_365  \n",
      "0                                   1                 0  \n",
      "1                                   2               365  \n",
      "2                                   1                 0  \n",
      "3                                   2               209  \n",
      "4                                   5               216  \n",
      "...                               ...               ...  \n",
      "19338                              24               264  \n",
      "19339                               7               365  \n",
      "19340                               7               364  \n",
      "19341                               7               365  \n",
      "19342                               3                22  \n",
      "\n",
      "[19343 rows x 16 columns]\n"
     ]
    }
   ],
   "source": [
    "import pandas as pd\n",
    "df = pd.read_csv (r'\\Users\\john\\Desktop\\course-project-solo_318-1\\Data\\Raw\\listings (2).csv')\n",
    "print (df)"
   ]
  },
  {
   "cell_type": "code",
   "execution_count": null,
   "metadata": {},
   "outputs": [],
   "source": []
  },
  {
   "cell_type": "code",
   "execution_count": null,
   "metadata": {},
   "outputs": [],
   "source": []
  }
 ],
 "metadata": {
  "kernelspec": {
   "display_name": "Python 3",
   "language": "python",
   "name": "python3"
  },
  "language_info": {
   "codemirror_mode": {
    "name": "ipython",
    "version": 3
   },
   "file_extension": ".py",
   "mimetype": "text/x-python",
   "name": "python",
   "nbconvert_exporter": "python",
   "pygments_lexer": "ipython3",
   "version": "3.8.3"
  }
 },
 "nbformat": 4,
 "nbformat_minor": 4
}
