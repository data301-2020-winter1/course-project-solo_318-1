{
 "cells": [
  {
   "cell_type": "code",
   "execution_count": 26,
   "metadata": {},
   "outputs": [
    {
     "name": "stdout",
     "output_type": "stream",
     "text": [
      "      id                                               name  host_id  \\\n",
      "0   1419                    Beautiful home in amazing area!     1565   \n",
      "1   8077                 Downtown Harbourfront Private Room    22795   \n",
      "2  12604                     Seaton Village Parlour Bedroom    48239   \n",
      "3  23691                    Queen Bedroom close to downtown    93825   \n",
      "4  26654  World Class downtown @CN Tower Theatre MTCC ga...   113345   \n",
      "\n",
      "        host_name  neighbourhood_group                      neighbourhood  \\\n",
      "0       Alexandra                  NaN                    Little Portugal   \n",
      "1  Kathie & Larry                  NaN  Waterfront Communities-The Island   \n",
      "2            Rona                  NaN                              Annex   \n",
      "3   Yohan & Sarah                  NaN               Briar Hill-Belgravia   \n",
      "4           Adela                  NaN  Waterfront Communities-The Island   \n",
      "\n",
      "   latitude  longitude        room_type  price  minimum_nights  \\\n",
      "0  43.64617  -79.42451  Entire home/apt    469               4   \n",
      "1  43.64105  -79.37628     Private room     99             180   \n",
      "2  43.66724  -79.41598     Private room     66               1   \n",
      "3  43.69602  -79.45468     Private room     70               1   \n",
      "4  43.64530  -79.38940  Entire home/apt    135              21   \n",
      "\n",
      "   number_of_reviews last_review  reviews_per_month  \\\n",
      "0                  7   4/12/2017               0.11   \n",
      "1                169  27/08/2013               1.25   \n",
      "2                  0         NaN                NaN   \n",
      "3                217  22/12/2019               1.73   \n",
      "4                 40  20/03/2020               0.34   \n",
      "\n",
      "   calculated_host_listings_count  availability_365  \n",
      "0                               1                 0  \n",
      "1                               2               365  \n",
      "2                               1                 0  \n",
      "3                               2               209  \n",
      "4                               5               216  \n"
     ]
    }
   ],
   "source": [
    "import pandas as pd\n",
    "df = pd.read_csv (r'\\Users\\john\\Desktop\\course-project-solo_318-1\\Data\\Raw\\listings (2).csv')\n",
    "print (df.head())"
   ]
  },
  {
   "cell_type": "code",
   "execution_count": null,
   "metadata": {},
   "outputs": [],
   "source": []
  },
  {
   "cell_type": "code",
   "execution_count": null,
   "metadata": {},
   "outputs": [],
   "source": []
  }
 ],
 "metadata": {
  "kernelspec": {
   "display_name": "Python 3",
   "language": "python",
   "name": "python3"
  },
  "language_info": {
   "codemirror_mode": {
    "name": "ipython",
    "version": 3
   },
   "file_extension": ".py",
   "mimetype": "text/x-python",
   "name": "python",
   "nbconvert_exporter": "python",
   "pygments_lexer": "ipython3",
   "version": "3.8.3"
  }
 },
 "nbformat": 4,
 "nbformat_minor": 4
}
