{
 "cells": [
  {
   "cell_type": "markdown",
   "metadata": {},
   "source": [
    "[![Work in Repl.it](https://classroom.github.com/assets/work-in-replit-14baed9a392b3a25080506f3b7b6d57f295ec2978f6f33ec97e36a161684cbe9.svg)](https://classroom.github.com/online_ide?assignment_repo_id=312435&assignment_repo_type=GroupAssignmentRepo)\n",
    "# Group YYY - {Short snappy Title of your project}\n",
    "\n",
    "- Your title can change over time.\n",
    "\n",
    "## Milestones\n",
    "\n",
    "Details for Milestone are available on Canvas (left sidebar, Course Project) or [here](https://firas.moosvi.com/courses/data301/project/milestone01.html).\n",
    "\n",
    "## Describe your topic/interest in about 150-200 words\n",
    "The Data set I have chosen contains detailed records of Airbnb properties /apartments. It has records of the date certain properties are available. It has records of the maximum and minimum nights that the property is available for. It also has extensive data about reviews left on the property by tenants who have just stayed there. The data about reviews also states the last time that a review was left on a property and the frequency of reviews left on properties.\n",
    "My interest in this topic is because I’ve always been curious about the factors that cause price fluctuations in Airbnb properties. Another reason of interest is the fact that I am fascinated by the city of Toronto and would like to know what kind of accommodation I should expect when trying to visit.\n",
    "With all of these statistics I hope to:\n",
    "1.\tFind the most prominent room type available on Airbnb Toronto. Find the order of prominence of the room types as a whole.\n",
    "2.\tDetermine the relationship of the price of room types and the minimum nights spent in those room types.\n",
    "\n",
    "## Describe your dataset in about 150-200 words\n",
    "This dataset contains data recorded from Airbnb in the city of Toronto. The Dataset contains data collected from June 3rd 2017. It has listings of apartments, homes and different types are of residences that available for rent on the site. The dataset also contains information on the frequency of times that properties have been listed on the site. Also contained in this information are the prices of various properties as well the dates that those prices are recorded. Some apartments/properties are more available than others and that availability has also been recorded into the dataset I have chosen. \n",
    "The data set also contains reviews left by the occupants/tenants on the properties/apartments they have stayed in. The minimum nights per stay of the apartments por homes will also be included in the data set. In addition the maximum night per stay and and the type of residence have all been included to make the data set a very detailed one.\n",
    "\n",
    "\n"
   ]
  },
  {
   "cell_type": "markdown",
   "metadata": {},
   "source": [
    "- The link to my video presentation: https://www.loom.com/share/a6acdf146d274789ab0e3287734da215"
   ]
  },
  {
   "cell_type": "code",
   "execution_count": null,
   "metadata": {},
   "outputs": [],
   "source": []
  }
 ],
 "metadata": {
  "kernelspec": {
   "display_name": "Python 3",
   "language": "python",
   "name": "python3"
  },
  "language_info": {
   "codemirror_mode": {
    "name": "ipython",
    "version": 3
   },
   "file_extension": ".py",
   "mimetype": "text/x-python",
   "name": "python",
   "nbconvert_exporter": "python",
   "pygments_lexer": "ipython3",
   "version": "3.8.5"
  }
 },
 "nbformat": 4,
 "nbformat_minor": 4
}
